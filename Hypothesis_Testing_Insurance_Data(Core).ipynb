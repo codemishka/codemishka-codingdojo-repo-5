{
  "cells": [
    {
      "cell_type": "markdown",
      "metadata": {
        "id": "pSdbHwd3B81b"
      },
      "source": [
        "#**1. Goal**\n",
        "We have been asked to use our hypothesis testing skills to answer the following questions:\n",
        "\n",
        "- Q1. Do smokers have higher insurance charges than non-smokers?\n",
        "- Q2. Are men more likely to smoke than women?\n",
        "- Q3. Do different regions have different charges, on ave??er?"
      ]
    },
    {
      "cell_type": "markdown",
      "metadata": {
        "id": "z5hsILsYhzmb"
      },
      "source": [
        "#**2. Import and Loading**"
      ]
    },
    {
      "cell_type": "markdown",
      "metadata": {
        "id": "LEj398LfiIpZ"
      },
      "source": [
        "## Load Libraries & Functions"
      ]
    },
    {
      "cell_type": "code",
      "execution_count": null,
      "metadata": {
        "id": "U6l1SPpQfsXb"
      },
      "outputs": [],
      "source": [
        "#Load Libraries\n",
        "import pandas as pd\n",
        "import numpy as np\n",
        "import matplotlib.pyplot as plt\n",
        "import seaborn as sns\n",
        "import scipy.stats as stats\n"
      ]
    },
    {
      "cell_type": "markdown",
      "metadata": {
        "id": "F0jW7VCHh4My"
      },
      "source": [
        "## Load Data"
      ]
    },
    {
      "cell_type": "code",
      "execution_count": null,
      "metadata": {
        "id": "O--rNN688eGE",
        "outputId": "d3639833-b681-42eb-f68a-3fdab02a9b7f"
      },
      "outputs": [
        {
          "name": "stdout",
          "output_type": "stream",
          "text": [
            "<class 'pandas.core.frame.DataFrame'>\n",
            "RangeIndex: 1338 entries, 0 to 1337\n",
            "Data columns (total 7 columns):\n",
            " #   Column    Non-Null Count  Dtype  \n",
            "---  ------    --------------  -----  \n",
            " 0   age       1338 non-null   int64  \n",
            " 1   sex       1338 non-null   object \n",
            " 2   bmi       1338 non-null   float64\n",
            " 3   children  1338 non-null   int64  \n",
            " 4   smoker    1338 non-null   object \n",
            " 5   region    1338 non-null   object \n",
            " 6   charges   1338 non-null   float64\n",
            "dtypes: float64(2), int64(2), object(3)\n",
            "memory usage: 73.3+ KB\n"
          ]
        }
      ],
      "source": [
        "# Open saved file and preview again\n",
        "df_main = pd.read_csv(\"Data/insurance.csv\", low_memory = False)\n",
        "df_main.info()\n",
        "#Make a copy\n",
        "df = df_main\n"
      ]
    },
    {
      "cell_type": "markdown",
      "metadata": {
        "id": "71Voz0dY8eGF"
      },
      "source": [
        "## Clean the Data"
      ]
    },
    {
      "cell_type": "code",
      "execution_count": null,
      "metadata": {
        "id": "S1FlWGhT8eGF",
        "outputId": "c06372dd-ac60-401d-9968-1556ee516eef"
      },
      "outputs": [
        {
          "name": "stdout",
          "output_type": "stream",
          "text": [
            "There are 1 duplicate rows.\n"
          ]
        }
      ],
      "source": [
        "#Duplicate count\n",
        "## Display the number of duplicate rows in the dataset\n",
        "print(f'There are {df.duplicated().sum()} duplicate rows.')"
      ]
    },
    {
      "cell_type": "code",
      "execution_count": null,
      "metadata": {
        "id": "ZO86w3b78eGF"
      },
      "outputs": [],
      "source": [
        "#drop duplicates\n",
        "df.drop_duplicates(inplace=True)"
      ]
    },
    {
      "cell_type": "code",
      "execution_count": null,
      "metadata": {
        "id": "XvQGdfck8eGF",
        "outputId": "9f573397-3025-4b26-9109-8b2aab4204cd"
      },
      "outputs": [
        {
          "name": "stdout",
          "output_type": "stream",
          "text": [
            "There are 0 missing values.\n"
          ]
        }
      ],
      "source": [
        "# Display the total number of missing values\n",
        "print(f'There are {df.isna().sum().sum()} missing values.')"
      ]
    },
    {
      "cell_type": "code",
      "execution_count": null,
      "metadata": {
        "id": "1uskberB8eGF",
        "outputId": "8f1ced7f-78c7-4ecf-c3b5-fafcc1ae17d1"
      },
      "outputs": [
        {
          "name": "stdout",
          "output_type": "stream",
          "text": [
            "male      675\n",
            "female    662\n",
            "Name: sex, dtype: int64\n",
            "no     1063\n",
            "yes     274\n",
            "Name: smoker, dtype: int64\n",
            "southeast    364\n",
            "southwest    325\n",
            "northwest    324\n",
            "northeast    324\n",
            "Name: region, dtype: int64\n"
          ]
        }
      ],
      "source": [
        "#Check for categorical descrepencies\n",
        "for col in df.select_dtypes(include='object').columns:\n",
        "  print(df[col].value_counts())"
      ]
    },
    {
      "cell_type": "code",
      "execution_count": null,
      "metadata": {
        "id": "OpldoBqF8eGG",
        "outputId": "ea01ef67-1b73-493a-d83a-69e3ec351a75"
      },
      "outputs": [
        {
          "data": {
            "text/html": [
              "<div>\n",
              "<style scoped>\n",
              "    .dataframe tbody tr th:only-of-type {\n",
              "        vertical-align: middle;\n",
              "    }\n",
              "\n",
              "    .dataframe tbody tr th {\n",
              "        vertical-align: top;\n",
              "    }\n",
              "\n",
              "    .dataframe thead th {\n",
              "        text-align: right;\n",
              "    }\n",
              "</style>\n",
              "<table border=\"1\" class=\"dataframe\">\n",
              "  <thead>\n",
              "    <tr style=\"text-align: right;\">\n",
              "      <th></th>\n",
              "      <th>age</th>\n",
              "      <th>sex</th>\n",
              "      <th>bmi</th>\n",
              "      <th>children</th>\n",
              "      <th>smoker</th>\n",
              "      <th>region</th>\n",
              "      <th>charges</th>\n",
              "    </tr>\n",
              "  </thead>\n",
              "  <tbody>\n",
              "    <tr>\n",
              "      <th>0</th>\n",
              "      <td>19</td>\n",
              "      <td>female</td>\n",
              "      <td>27.900</td>\n",
              "      <td>0</td>\n",
              "      <td>yes</td>\n",
              "      <td>southwest</td>\n",
              "      <td>16884.92400</td>\n",
              "    </tr>\n",
              "    <tr>\n",
              "      <th>1</th>\n",
              "      <td>18</td>\n",
              "      <td>male</td>\n",
              "      <td>33.770</td>\n",
              "      <td>1</td>\n",
              "      <td>no</td>\n",
              "      <td>southeast</td>\n",
              "      <td>1725.55230</td>\n",
              "    </tr>\n",
              "    <tr>\n",
              "      <th>2</th>\n",
              "      <td>28</td>\n",
              "      <td>male</td>\n",
              "      <td>33.000</td>\n",
              "      <td>3</td>\n",
              "      <td>no</td>\n",
              "      <td>southeast</td>\n",
              "      <td>4449.46200</td>\n",
              "    </tr>\n",
              "    <tr>\n",
              "      <th>3</th>\n",
              "      <td>33</td>\n",
              "      <td>male</td>\n",
              "      <td>22.705</td>\n",
              "      <td>0</td>\n",
              "      <td>no</td>\n",
              "      <td>northwest</td>\n",
              "      <td>21984.47061</td>\n",
              "    </tr>\n",
              "    <tr>\n",
              "      <th>4</th>\n",
              "      <td>32</td>\n",
              "      <td>male</td>\n",
              "      <td>28.880</td>\n",
              "      <td>0</td>\n",
              "      <td>no</td>\n",
              "      <td>northwest</td>\n",
              "      <td>3866.85520</td>\n",
              "    </tr>\n",
              "  </tbody>\n",
              "</table>\n",
              "</div>"
            ],
            "text/plain": [
              "   age     sex     bmi  children smoker     region      charges\n",
              "0   19  female  27.900         0    yes  southwest  16884.92400\n",
              "1   18    male  33.770         1     no  southeast   1725.55230\n",
              "2   28    male  33.000         3     no  southeast   4449.46200\n",
              "3   33    male  22.705         0     no  northwest  21984.47061\n",
              "4   32    male  28.880         0     no  northwest   3866.85520"
            ]
          },
          "execution_count": 7,
          "metadata": {},
          "output_type": "execute_result"
        }
      ],
      "source": [
        "#Display top 5\n",
        "df.head()"
      ]
    },
    {
      "cell_type": "markdown",
      "metadata": {
        "id": "4oVKce0H8eGG"
      },
      "source": [
        "Q1: Do smokers have higher insurance charges than non-smokers?\n",
        "- Null Hyposthesis Smoker do not have a higher insurance charge than non-smokers\n",
        "- Alternative Hyposthesis Smoker do have a higher insurance charge than non-smokers"
      ]
    },
    {
      "cell_type": "markdown",
      "metadata": {
        "id": "W68tp4-h8eGG"
      },
      "source": [
        "Q2: Select the correct test according to the data type and number of samples\n",
        "Data Type - Numerical and 2 Sample test"
      ]
    },
    {
      "cell_type": "code",
      "execution_count": null,
      "metadata": {
        "id": "KD01qhkS8eGG",
        "outputId": "0e04aa85-b164-4a54-b94a-e5bef9f06a7f"
      },
      "outputs": [
        {
          "data": {
            "text/plain": [
              "no     0.795064\n",
              "yes    0.204936\n",
              "Name: smoker, dtype: float64"
            ]
          },
          "execution_count": 8,
          "metadata": {},
          "output_type": "execute_result"
        }
      ],
      "source": [
        "#Visualise data\n",
        "df['smoker'].value_counts(1)"
      ]
    },
    {
      "cell_type": "code",
      "execution_count": null,
      "metadata": {
        "id": "b8y6EnMd8eGG",
        "outputId": "474e752a-f0f0-411a-f528-518d548c2387"
      },
      "outputs": [
        {
          "data": {
            "text/plain": [
              "<Axes: xlabel='smoker', ylabel='count'>"
            ]
          },
          "execution_count": 9,
          "metadata": {},
          "output_type": "execute_result"
        },
        {
          "data": {
            "image/png": "[encoded data removed]",
            "text/plain": [
              "<Figure size 640x480 with 1 Axes>"
            ]
          },
          "metadata": {},
          "output_type": "display_data"
        }
      ],
      "source": [
        "#Visualise smoker count\n",
        "sns.countplot(data=df,x='smoker')"
      ]
    },
    {
      "cell_type": "code",
      "execution_count": null,
      "metadata": {
        "id": "zV_DLi9m8eGG",
        "outputId": "e048eff6-fc1d-4a8c-a410-46abaa366e7e"
      },
      "outputs": [
        {
          "data": {
            "text/plain": [
              "<Axes: xlabel='charges', ylabel='Density'>"
            ]
          },
          "execution_count": 10,
          "metadata": {},
          "output_type": "execute_result"
        },
        {
          "data": {
            "image/png": "[encoded data removed]",
            "text/plain": [
              "<Figure size 640x480 with 1 Axes>"
            ]
          },
          "metadata": {},
          "output_type": "display_data"
        }
      ],
      "source": [
        "## visualize the histogram of charges, but separate it by \"smoker\"\n",
        "sns.histplot(data=df, x='charges',hue='smoker',common_norm=False,\n",
        "             stat='density',kde=True)"
      ]
    },
    {
      "cell_type": "code",
      "execution_count": null,
      "metadata": {
        "id": "UANnx4oB8eGG",
        "outputId": "807e505c-ce01-441e-8543-74fa87cbfc2b"
      },
      "outputs": [
        {
          "data": {
            "text/plain": [
              "0     16884.9240\n",
              "11    27808.7251\n",
              "14    39611.7577\n",
              "19    36837.4670\n",
              "23    37701.8768\n",
              "Name: charges, dtype: float64"
            ]
          },
          "metadata": {},
          "output_type": "display_data"
        },
        {
          "data": {
            "text/plain": [
              "1     1725.55230\n",
              "2     4449.46200\n",
              "3    21984.47061\n",
              "4     3866.85520\n",
              "5     3756.62160\n",
              "Name: charges, dtype: float64"
            ]
          },
          "metadata": {},
          "output_type": "display_data"
        }
      ],
      "source": [
        "## Separate the 2 groups into 2 variables\n",
        "grp_yes = df.loc[df['smoker']==\"yes\", 'charges']\n",
        "grp_no = df.loc[df['smoker']==\"no\", 'charges']\n",
        "\n",
        "display(grp_yes.head(), grp_no.head())"
      ]
    },
    {
      "cell_type": "markdown",
      "metadata": {
        "id": "FMj8_1fC8eGH"
      },
      "source": [
        "Q3: Assumptions\n",
        "- Since we are comparing a numeric measurement between 2 groups, we want to run a 2-sample (AKA independent T-test).\n",
        "\n",
        "- The Assumptions are:\n",
        "    - No significant outliers\n",
        "    - Normality\n",
        "    - EqualVariiance"
      ]
    },
    {
      "cell_type": "markdown",
      "metadata": {
        "id": "gEfinkq48eGH"
      },
      "source": [
        "## Assumption: No significant outliers"
      ]
    },
    {
      "cell_type": "code",
      "execution_count": null,
      "metadata": {
        "id": "h14zkNCI8eGH",
        "outputId": "a40674c7-1f38-41ed-e7e3-964bd49ca559"
      },
      "outputs": [
        {
          "data": {
            "text/plain": [
              "0"
            ]
          },
          "execution_count": 12,
          "metadata": {},
          "output_type": "execute_result"
        }
      ],
      "source": [
        "#Q3: Test the assumptions of your selected test.\n",
        "#Apply the Z-score rule\n",
        "## check yes group for outliers using z-score >3 rule.\n",
        "outliers_yes = np.abs(stats.zscore(grp_yes))>3\n",
        "outliers_yes.sum()"
      ]
    },
    {
      "cell_type": "code",
      "execution_count": null,
      "metadata": {
        "id": "Ela8EMxY8eGH",
        "outputId": "2330f087-08b3-46d0-89d2-7d3982d1e52a"
      },
      "outputs": [
        {
          "data": {
            "text/plain": [
              "24"
            ]
          },
          "execution_count": 13,
          "metadata": {},
          "output_type": "execute_result"
        }
      ],
      "source": [
        "## check no group for outliers using z-score >3 rule.\n",
        "outliers_no = np.abs(stats.zscore(grp_no))>3\n",
        "outliers_no.sum()"
      ]
    },
    {
      "cell_type": "markdown",
      "metadata": {
        "id": "m4xqw4Mk8eGH"
      },
      "source": [
        "** Interpretation **\n",
        "Outliers found in no group therefore Assumption is incorrect/no met"
      ]
    },
    {
      "cell_type": "markdown",
      "metadata": {
        "id": "Uw4si8n08eGH"
      },
      "source": [
        "## Assumption: Normally distributed groups"
      ]
    },
    {
      "cell_type": "code",
      "execution_count": null,
      "metadata": {
        "id": "XEajr9nY8eGH",
        "outputId": "add5e51e-bf75-483d-c7b8-0d8a731db782"
      },
      "outputs": [
        {
          "data": {
            "text/plain": [
              "NormaltestResult(statistic=61.03941356533816, pvalue=5.564930630036463e-14)"
            ]
          },
          "execution_count": 14,
          "metadata": {},
          "output_type": "execute_result"
        }
      ],
      "source": [
        "## use normaltest to check if yes group is normally distributed\n",
        "stats.normaltest(grp_yes)"
      ]
    },
    {
      "cell_type": "code",
      "execution_count": null,
      "metadata": {
        "id": "z-VHwnPc8eGH",
        "outputId": "806f3456-19da-4883-ab4f-d506a03f6d64"
      },
      "outputs": [
        {
          "data": {
            "text/plain": [
              "NormaltestResult(statistic=316.23579659917766, pvalue=2.1392881146814186e-69)"
            ]
          },
          "execution_count": 15,
          "metadata": {},
          "output_type": "execute_result"
        }
      ],
      "source": [
        "## use normaltest to check if no group is normally distributed\n",
        "stats.normaltest(grp_no)"
      ]
    },
    {
      "cell_type": "markdown",
      "metadata": {
        "id": "KsN28v_G8eGI"
      },
      "source": [
        "** Interpretation **\n",
        "Not normally distributed"
      ]
    },
    {
      "cell_type": "markdown",
      "metadata": {
        "id": "mJPrlxxR8eGI"
      },
      "source": [
        "## Assumption: Equal variance"
      ]
    },
    {
      "cell_type": "code",
      "execution_count": null,
      "metadata": {
        "id": "SbMSGHch8eGI",
        "outputId": "a5f1a832-0222-4e92-d08b-4bb9b3d184b1"
      },
      "outputs": [
        {
          "data": {
            "text/plain": [
              "LeveneResult(statistic=332.47137394800666, pvalue=1.670117565125241e-66)"
            ]
          },
          "execution_count": 17,
          "metadata": {},
          "output_type": "execute_result"
        }
      ],
      "source": [
        "## use Levene's test to check if groups have equal variance\n",
        "stats.levene(grp_yes, grp_no)"
      ]
    },
    {
      "cell_type": "markdown",
      "metadata": {
        "id": "MFUV-qnd8eGI"
      },
      "source": [
        "** Interpretation **\n",
        "Equal variance failed"
      ]
    },
    {
      "cell_type": "markdown",
      "metadata": {
        "id": "GGoatU-88eGI"
      },
      "source": [
        "### Perform Final Hypothesis Test (T-Test)"
      ]
    },
    {
      "cell_type": "code",
      "execution_count": null,
      "metadata": {
        "id": "a9A7m6ml8eGI",
        "outputId": "33e4543e-60bb-4692-cd39-04d82648b3f1"
      },
      "outputs": [
        {
          "data": {
            "text/plain": [
              "Ttest_indResult(statistic=46.64479459840305, pvalue=1.4067220949376498e-282)"
            ]
          },
          "execution_count": 18,
          "metadata": {},
          "output_type": "execute_result"
        }
      ],
      "source": [
        "## run stats.ttest_ind on the 2 groups\n",
        "results = stats.ttest_ind(grp_yes, grp_no)\n",
        "results"
      ]
    },
    {
      "cell_type": "markdown",
      "metadata": {
        "id": "rzXjPE_X8eGI"
      },
      "source": [
        "** Interpretation **\n",
        "- T-Test returned a p-value of 1.4. Since p>.05, we can accept the null hypothesis that smokers have higher insurance charges than non-smokers\n",
        "\n",
        "\n",
        "We thereforeject he alternative hypothesis that there isno  a significant difference insurance costdes betwesmokers and non-smokersess.\n",
        "Our visualization below shows that students with internet access have HIGHER average grades."
      ]
    },
    {
      "cell_type": "code",
      "execution_count": null,
      "metadata": {
        "id": "NsUkoXUM8eGI",
        "outputId": "ee80e776-6f9a-421e-8af8-2c725b639dcb"
      },
      "outputs": [
        {
          "data": {
            "text/plain": [
              "<Axes: xlabel='smoker', ylabel='charges'>"
            ]
          },
          "execution_count": 20,
          "metadata": {},
          "output_type": "execute_result"
        },
        {
          "data": {
            "image/png": "[encoded data removed]",
            "text/plain": [
              "<Figure size 640x480 with 1 Axes>"
            ]
          },
          "metadata": {},
          "output_type": "display_data"
        }
      ],
      "source": [
        "## Add a summary visual to support our results.\n",
        "sns.barplot(data=df, x='smoker',y='charges',errorbar=('ci',68))"
      ]
    },
    {
      "cell_type": "markdown",
      "metadata": {
        "id": "Z7gYUg4M8eGJ"
      },
      "source": [
        "Q2. Are men more likely to smoke than women?\n",
        "Null Hypothesis Men are not likely to smoke more than women\n",
        "Alternative Hypsthesi Men are more likely to smoke than womens"
      ]
    },
    {
      "cell_type": "markdown",
      "metadata": {
        "id": "mc79jfIz8eGJ"
      },
      "source": [
        "Q2: Select the correct test according to the data type and number of samples Data Type - Categorical and Chi-Square"
      ]
    },
    {
      "cell_type": "code",
      "execution_count": null,
      "metadata": {
        "id": "rvl2Z-2x8eGJ",
        "outputId": "14c08fea-8b87-4f2d-d343-faf0cfa61ce2"
      },
      "outputs": [
        {
          "data": {
            "text/plain": [
              "male      0.504862\n",
              "female    0.495138\n",
              "Name: sex, dtype: float64"
            ]
          },
          "execution_count": 21,
          "metadata": {},
          "output_type": "execute_result"
        }
      ],
      "source": [
        "#Visualise data\n",
        "df['sex'].value_counts(1)"
      ]
    },
    {
      "cell_type": "code",
      "execution_count": null,
      "metadata": {
        "id": "lqbeAzsd8eGJ",
        "outputId": "8f8e7389-ceb9-4f86-af47-164ef8672bca"
      },
      "outputs": [
        {
          "data": {
            "text/plain": [
              "<Axes: xlabel='sex', ylabel='count'>"
            ]
          },
          "execution_count": 22,
          "metadata": {},
          "output_type": "execute_result"
        },
        {
          "data": {
            "image/png": "[encoded data removed]",
            "text/plain": [
              "<Figure size 640x480 with 1 Axes>"
            ]
          },
          "metadata": {},
          "output_type": "display_data"
        }
      ],
      "source": [
        "#Visualise sex count\n",
        "sns.countplot(data=df,x='sex')"
      ]
    },
    {
      "cell_type": "code",
      "execution_count": null,
      "metadata": {
        "id": "EOIOYw158eGJ",
        "outputId": "f5482152-1636-4e41-bff6-68224847e84e"
      },
      "outputs": [
        {
          "data": {
            "text/plain": [
              "<Axes: xlabel='sex', ylabel='Density'>"
            ]
          },
          "execution_count": 25,
          "metadata": {},
          "output_type": "execute_result"
        },
        {
          "data": {
            "image/png": "[encoded data removed]",
            "text/plain": [
              "<Figure size 640x480 with 1 Axes>"
            ]
          },
          "metadata": {},
          "output_type": "display_data"
        }
      ],
      "source": [
        "## visualize the histogram of gender, but separate it by \"smoker\"\n",
        "sns.histplot(data=df, x='sex',hue='smoker',common_norm=False,\n",
        "             stat='density',kde=True)"
      ]
    },
    {
      "cell_type": "code",
      "execution_count": null,
      "metadata": {
        "id": "1n8PMjRC8eGK",
        "outputId": "5f503d10-2e8f-4794-f7e3-a3ae5969370f"
      },
      "outputs": [
        {
          "data": {
            "text/plain": [
              "0     female\n",
              "11    female\n",
              "14      male\n",
              "19      male\n",
              "23    female\n",
              "Name: sex, dtype: object"
            ]
          },
          "metadata": {},
          "output_type": "display_data"
        },
        {
          "data": {
            "text/plain": [
              "1      male\n",
              "2      male\n",
              "3      male\n",
              "4      male\n",
              "5    female\n",
              "Name: sex, dtype: object"
            ]
          },
          "metadata": {},
          "output_type": "display_data"
        }
      ],
      "source": [
        "## Separate the 2 groups into 2 variables\n",
        "grp_yes = df.loc[df['smoker']==\"yes\", 'sex']\n",
        "grp_no = df.loc[df['smoker']==\"no\", 'sex']\n",
        "\n",
        "display(grp_yes.head(), grp_no.head())"
      ]
    },
    {
      "cell_type": "markdown",
      "metadata": {
        "id": "d9bLQpLx8eGK"
      },
      "source": [
        "Q3: Assumptions\n",
        "\n",
        "Since we are comparing categoricalic measurement between 2 groups, we want to run Chi-square testt).\n",
        "\n",
        "The Assumptions are:\n",
        "\n",
        "No significant outliers\n",
        "Normality\n",
        "Eqal Variiance"
      ]
    },
    {
      "cell_type": "markdown",
      "metadata": {
        "id": "gE92SUWH8eGK"
      },
      "source": [
        "## Assumption: No significant outliers"
      ]
    },
    {
      "cell_type": "code",
      "execution_count": null,
      "metadata": {
        "id": "J2bfbsst8eGK",
        "outputId": "9d2a8d53-b0b4-4c02-f6af-9e77815b37f0"
      },
      "outputs": [
        {
          "data": {
            "text/html": [
              "<div>\n",
              "<style scoped>\n",
              "    .dataframe tbody tr th:only-of-type {\n",
              "        vertical-align: middle;\n",
              "    }\n",
              "\n",
              "    .dataframe tbody tr th {\n",
              "        vertical-align: top;\n",
              "    }\n",
              "\n",
              "    .dataframe thead th {\n",
              "        text-align: right;\n",
              "    }\n",
              "</style>\n",
              "<table border=\"1\" class=\"dataframe\">\n",
              "  <thead>\n",
              "    <tr style=\"text-align: right;\">\n",
              "      <th>smoker</th>\n",
              "      <th>no</th>\n",
              "      <th>yes</th>\n",
              "    </tr>\n",
              "    <tr>\n",
              "      <th>sex</th>\n",
              "      <th></th>\n",
              "      <th></th>\n",
              "    </tr>\n",
              "  </thead>\n",
              "  <tbody>\n",
              "    <tr>\n",
              "      <th>female</th>\n",
              "      <td>547</td>\n",
              "      <td>115</td>\n",
              "    </tr>\n",
              "    <tr>\n",
              "      <th>male</th>\n",
              "      <td>516</td>\n",
              "      <td>159</td>\n",
              "    </tr>\n",
              "  </tbody>\n",
              "</table>\n",
              "</div>"
            ],
            "text/plain": [
              "smoker   no  yes\n",
              "sex             \n",
              "female  547  115\n",
              "male    516  159"
            ]
          },
          "execution_count": 28,
          "metadata": {},
          "output_type": "execute_result"
        }
      ],
      "source": [
        "# calculate the contingency table with pd.cross-tab\n",
        "table = pd.crosstab(df['sex'], df['smoker'])\n",
        "table"
      ]
    },
    {
      "cell_type": "code",
      "execution_count": null,
      "metadata": {
        "id": "YfgZgey_8eGK"
      },
      "outputs": [],
      "source": [
        "# Run the Test and Save the Output\n",
        "result = stats.chi2_contingency(table)\n",
        "chi2, p, deg_free, expected_vals = result #this labels the results"
      ]
    },
    {
      "cell_type": "code",
      "execution_count": null,
      "metadata": {
        "id": "0P6h6cjE8eGK",
        "outputId": "45075a81-d563-4544-a6cb-222baf8231d3"
      },
      "outputs": [
        {
          "name": "stdout",
          "output_type": "stream",
          "text": [
            "0.0062765550120107375\n"
          ]
        },
        {
          "data": {
            "text/plain": [
              "True"
            ]
          },
          "execution_count": 30,
          "metadata": {},
          "output_type": "execute_result"
        }
      ],
      "source": [
        "# What was our p-value?\n",
        "print(p)\n",
        "p<.05"
      ]
    },
    {
      "cell_type": "markdown",
      "metadata": {
        "id": "Qp14ki998eGK"
      },
      "source": [
        "** Interpretation **\n",
        "P-value is less than 0.05 and therefore we reject the null hypothesis that men are not more likely to smoke than female\n",
        "and accept the alternative that men are more likely to smoke than women\n"
      ]
    },
    {
      "cell_type": "code",
      "execution_count": null,
      "metadata": {
        "id": "wwo5z0Wv8eGK",
        "outputId": "a5dc2d7e-dd8e-4c90-991e-01b9708b3e91"
      },
      "outputs": [
        {
          "data": {
            "image/png": "[encoded data removed]",
            "text/plain": [
              "<Figure size 640x480 with 1 Axes>"
            ]
          },
          "metadata": {},
          "output_type": "display_data"
        }
      ],
      "source": [
        "#Visualise the correct hyposthesis\n",
        "ax = sns.countplot(data=df, x='sex',hue='smoker',)\n",
        "ax.set_title(\"Number of smokers by Sex\");"
      ]
    },
    {
      "cell_type": "markdown",
      "metadata": {
        "id": "wSjMFyfW8eGL"
      },
      "source": [
        "- Q3. Do different regions have different charges, on average?\n",
        "-  Null Hyposthesis there is no difference in charges on average between different regions\n",
        "-  Alternative Hyposthesis There is a significant difference in charges on average between the regions"
      ]
    },
    {
      "cell_type": "markdown",
      "metadata": {
        "id": "XisL6x7i8eGL"
      },
      "source": [
        "Q2: Select the correct test according to the data type and number of samples Data Type - Numerical and ANOVA and/or Tukey"
      ]
    },
    {
      "cell_type": "code",
      "execution_count": null,
      "metadata": {
        "id": "-RvWj7998eGL",
        "outputId": "8024d2d0-f715-4ab9-b340-4659f717f926"
      },
      "outputs": [
        {
          "data": {
            "text/plain": [
              "southeast    0.272251\n",
              "southwest    0.243082\n",
              "northwest    0.242334\n",
              "northeast    0.242334\n",
              "Name: region, dtype: float64"
            ]
          },
          "execution_count": 39,
          "metadata": {},
          "output_type": "execute_result"
        }
      ],
      "source": [
        "#Visualise data\n",
        "df['region'].value_counts(1)"
      ]
    },
    {
      "cell_type": "code",
      "execution_count": null,
      "metadata": {
        "id": "gVXij2UL8eGL",
        "outputId": "d3cd59c1-9dd6-4881-dc2d-07d6fd7a2d8f"
      },
      "outputs": [
        {
          "data": {
            "text/plain": [
              "<Axes: xlabel='region', ylabel='count'>"
            ]
          },
          "execution_count": 40,
          "metadata": {},
          "output_type": "execute_result"
        },
        {
          "data": {
            "image/png": "[encoded data removed]",
            "text/plain": [
              "<Figure size 640x480 with 1 Axes>"
            ]
          },
          "metadata": {},
          "output_type": "display_data"
        }
      ],
      "source": [
        "#Visualise smoker count\n",
        "sns.countplot(data=df,x='region')"
      ]
    },
    {
      "cell_type": "code",
      "execution_count": null,
      "metadata": {
        "id": "57AMAfCO8eGL",
        "outputId": "badaaeb0-3864-47a2-caeb-45836c3a9cf9"
      },
      "outputs": [
        {
          "data": {
            "text/plain": [
              "<Axes: xlabel='charges', ylabel='Density'>"
            ]
          },
          "execution_count": 44,
          "metadata": {},
          "output_type": "execute_result"
        },
        {
          "data": {
            "image/png": "[encoded data removed]",
            "text/plain": [
              "<Figure size 640x480 with 1 Axes>"
            ]
          },
          "metadata": {},
          "output_type": "display_data"
        }
      ],
      "source": [
        "## visualize the histogram of charges, but separate it by \"smoker\"\n",
        "sns.histplot(data=df, x='charges',hue='region',common_norm=False,\n",
        "             stat='density',kde=True)"
      ]
    },
    {
      "cell_type": "markdown",
      "metadata": {
        "id": "P2A5uyRd8eGL"
      },
      "source": [
        "Q3: Assumptions\n",
        "- Since we are comparing a numeric measurement between 4 groups, we want to run a ANOVA and/or Tukey test.\n",
        "\n",
        "- The Assumptions are:\n",
        "    - No significant outliers\n",
        "    - Normality\n",
        "    - Equal Variance"
      ]
    },
    {
      "cell_type": "code",
      "execution_count": null,
      "metadata": {
        "id": "gOscQ4qx8eGL",
        "outputId": "07e1cd76-ac1a-44c2-9cf8-89b98f0bb882"
      },
      "outputs": [
        {
          "data": {
            "text/plain": [
              "dict_keys(['southwest', 'southeast', 'northwest', 'northeast'])"
            ]
          },
          "execution_count": 45,
          "metadata": {},
          "output_type": "execute_result"
        }
      ],
      "source": [
        "## Create groups dictionary. There are only 4 groups, but this is even more helpful when there are many groups\n",
        "groups = {}\n",
        "## Loop through all unique categories\n",
        "for i in df['region'].unique():\n",
        "    ## Get series for group and rename\n",
        "    data = df.loc[df['region']==i,'charges'].copy()\n",
        "\n",
        "    # save into the dictionary\n",
        "    groups[i] = data\n",
        "groups.keys()"
      ]
    },
    {
      "cell_type": "code",
      "execution_count": null,
      "metadata": {
        "id": "Fg9GVGRw8eGL",
        "outputId": "ad0278c5-6402-4d4d-8be1-553c270bb730"
      },
      "outputs": [
        {
          "data": {
            "text/html": [
              "<div>\n",
              "<style scoped>\n",
              "    .dataframe tbody tr th:only-of-type {\n",
              "        vertical-align: middle;\n",
              "    }\n",
              "\n",
              "    .dataframe tbody tr th {\n",
              "        vertical-align: top;\n",
              "    }\n",
              "\n",
              "    .dataframe thead th {\n",
              "        text-align: right;\n",
              "    }\n",
              "</style>\n",
              "<table border=\"1\" class=\"dataframe\">\n",
              "  <thead>\n",
              "    <tr style=\"text-align: right;\">\n",
              "      <th></th>\n",
              "      <th>n</th>\n",
              "      <th>p</th>\n",
              "      <th>test stat</th>\n",
              "    </tr>\n",
              "  </thead>\n",
              "  <tbody>\n",
              "    <tr>\n",
              "      <th>southwest</th>\n",
              "      <td>325.0</td>\n",
              "      <td>6.125298e-23</td>\n",
              "      <td>102.294059</td>\n",
              "    </tr>\n",
              "    <tr>\n",
              "      <th>southeast</th>\n",
              "      <td>364.0</td>\n",
              "      <td>4.953297e-15</td>\n",
              "      <td>65.877446</td>\n",
              "    </tr>\n",
              "    <tr>\n",
              "      <th>northwest</th>\n",
              "      <td>324.0</td>\n",
              "      <td>6.502634e-24</td>\n",
              "      <td>106.779670</td>\n",
              "    </tr>\n",
              "    <tr>\n",
              "      <th>northeast</th>\n",
              "      <td>324.0</td>\n",
              "      <td>1.455431e-19</td>\n",
              "      <td>86.747629</td>\n",
              "    </tr>\n",
              "  </tbody>\n",
              "</table>\n",
              "</div>"
            ],
            "text/plain": [
              "               n             p   test stat\n",
              "southwest  325.0  6.125298e-23  102.294059\n",
              "southeast  364.0  4.953297e-15   65.877446\n",
              "northwest  324.0  6.502634e-24  106.779670\n",
              "northeast  324.0  1.455431e-19   86.747629"
            ]
          },
          "execution_count": 46,
          "metadata": {},
          "output_type": "execute_result"
        }
      ],
      "source": [
        "#Test the assumption of normality\n",
        "## Running normal test on each group and confirming there are >20 in each group\n",
        "norm_results = {}\n",
        "for i, data in groups.items():\n",
        "    stat, p = stats.normaltest(data)\n",
        "    ## save the p val, test statistic, and the size of the group\n",
        "    norm_results[i] = {'n': len(data),\n",
        "                             'p':p,\n",
        "                             'test stat':stat,}\n",
        "## convert to a dataframe\n",
        "norm_results_df = pd.DataFrame(norm_results).T\n",
        "norm_results_df\n"
      ]
    },
    {
      "cell_type": "code",
      "execution_count": null,
      "metadata": {
        "id": "r0vmZ2vO8eGM",
        "outputId": "61b6ac83-4a8b-4283-f557-fc7299f1f66c"
      },
      "outputs": [
        {
          "data": {
            "text/html": [
              "<div>\n",
              "<style scoped>\n",
              "    .dataframe tbody tr th:only-of-type {\n",
              "        vertical-align: middle;\n",
              "    }\n",
              "\n",
              "    .dataframe tbody tr th {\n",
              "        vertical-align: top;\n",
              "    }\n",
              "\n",
              "    .dataframe thead th {\n",
              "        text-align: right;\n",
              "    }\n",
              "</style>\n",
              "<table border=\"1\" class=\"dataframe\">\n",
              "  <thead>\n",
              "    <tr style=\"text-align: right;\">\n",
              "      <th></th>\n",
              "      <th>n</th>\n",
              "      <th>p</th>\n",
              "      <th>test stat</th>\n",
              "      <th>sig</th>\n",
              "    </tr>\n",
              "  </thead>\n",
              "  <tbody>\n",
              "    <tr>\n",
              "      <th>southwest</th>\n",
              "      <td>325.0</td>\n",
              "      <td>6.125298e-23</td>\n",
              "      <td>102.294059</td>\n",
              "      <td>True</td>\n",
              "    </tr>\n",
              "    <tr>\n",
              "      <th>southeast</th>\n",
              "      <td>364.0</td>\n",
              "      <td>4.953297e-15</td>\n",
              "      <td>65.877446</td>\n",
              "      <td>True</td>\n",
              "    </tr>\n",
              "    <tr>\n",
              "      <th>northwest</th>\n",
              "      <td>324.0</td>\n",
              "      <td>6.502634e-24</td>\n",
              "      <td>106.779670</td>\n",
              "      <td>True</td>\n",
              "    </tr>\n",
              "    <tr>\n",
              "      <th>northeast</th>\n",
              "      <td>324.0</td>\n",
              "      <td>1.455431e-19</td>\n",
              "      <td>86.747629</td>\n",
              "      <td>True</td>\n",
              "    </tr>\n",
              "  </tbody>\n",
              "</table>\n",
              "</div>"
            ],
            "text/plain": [
              "               n             p   test stat   sig\n",
              "southwest  325.0  6.125298e-23  102.294059  True\n",
              "southeast  364.0  4.953297e-15   65.877446  True\n",
              "northwest  324.0  6.502634e-24  106.779670  True\n",
              "northeast  324.0  1.455431e-19   86.747629  True"
            ]
          },
          "execution_count": 47,
          "metadata": {},
          "output_type": "execute_result"
        }
      ],
      "source": [
        "### checking sig with pandas\n",
        "norm_results_df['sig'] = norm_results_df['p'] < .05\n",
        "norm_results_df"
      ]
    },
    {
      "cell_type": "markdown",
      "metadata": {
        "id": "CRaBLC118eGM"
      },
      "source": [
        "** Interpretation **\n",
        "Each group does not have a normal distribution"
      ]
    },
    {
      "cell_type": "code",
      "execution_count": null,
      "metadata": {
        "id": "15Klhx3E8eGM",
        "outputId": "befe4ad9-fa31-47ce-9e40-b93dcf576531"
      },
      "outputs": [
        {
          "data": {
            "text/plain": [
              "LeveneResult(statistic=5.553479860699911, pvalue=0.0008689544824002284)"
            ]
          },
          "execution_count": 51,
          "metadata": {},
          "output_type": "execute_result"
        }
      ],
      "source": [
        "# with the * operator\n",
        "stats.levene(*groups.values())"
      ]
    },
    {
      "cell_type": "markdown",
      "metadata": {
        "id": "U5OgdNsr8eGM"
      },
      "source": [
        "** Interpretation **\n",
        "- High significant value, therefore not equal variance"
      ]
    },
    {
      "cell_type": "code",
      "execution_count": null,
      "metadata": {
        "id": "cXxMN4lT8eGM",
        "outputId": "d0b7198b-b16f-44c8-a3c3-bd61368db50e"
      },
      "outputs": [
        {
          "data": {
            "text/plain": [
              "F_onewayResult(statistic=2.926139903662776, pvalue=0.03276288025444947)"
            ]
          },
          "execution_count": 52,
          "metadata": {},
          "output_type": "execute_result"
        }
      ],
      "source": [
        "# perform the correct hypothesis test\n",
        "# note again the use of the * operator for convenience\n",
        "result = stats.f_oneway( *groups.values())\n",
        "result"
      ]
    },
    {
      "cell_type": "markdown",
      "metadata": {
        "id": "YeLZQuUB8eGM"
      },
      "source": [
        "** Interpretation **\n",
        "- Confirmation that we have a significant value base on P value < 0.05\n"
      ]
    },
    {
      "cell_type": "code",
      "execution_count": null,
      "metadata": {
        "id": "WIoKBkB_8eGM"
      },
      "outputs": [],
      "source": [
        "# use turkey to retirb multiple comparisons\n",
        "from statsmodels.stats.multicomp import pairwise_tukeyhsd\n",
        "## save the values as kg_lost and the labels to the Diet\n",
        "values = df['charges']\n",
        "labels = df['region']"
      ]
    },
    {
      "cell_type": "code",
      "execution_count": null,
      "metadata": {
        "id": "E0JVp35E8eGM",
        "outputId": "85febaeb-a516-417e-81c4-b5e63a65c93b"
      },
      "outputs": [
        {
          "data": {
            "text/html": [
              "<table class=\"simpletable\">\n",
              "<caption>Multiple Comparison of Means - Tukey HSD, FWER=0.05</caption>\n",
              "<tr>\n",
              "   <th>group1</th>    <th>group2</th>    <th>meandiff</th>   <th>p-adj</th>    <th>lower</th>     <th>upper</th>   <th>reject</th>\n",
              "</tr>\n",
              "<tr>\n",
              "  <td>northeast</td> <td>northwest</td>  <td>-955.5437</td> <td>0.7457</td> <td>-3397.7353</td> <td>1486.648</td>   <td>False</td>\n",
              "</tr>\n",
              "<tr>\n",
              "  <td>northeast</td> <td>southeast</td>  <td>1329.0269</td> <td>0.4746</td> <td>-1045.1237</td> <td>3703.1776</td>  <td>False</td>\n",
              "</tr>\n",
              "<tr>\n",
              "  <td>northeast</td> <td>southwest</td> <td>-1059.4471</td> <td>0.6793</td> <td>-3499.7595</td> <td>1380.8652</td>  <td>False</td>\n",
              "</tr>\n",
              "<tr>\n",
              "  <td>northwest</td> <td>southeast</td>  <td>2284.5706</td> <td>0.0643</td>   <td>-89.58</td>   <td>4658.7212</td>  <td>False</td>\n",
              "</tr>\n",
              "<tr>\n",
              "  <td>northwest</td> <td>southwest</td>  <td>-103.9035</td> <td>0.9995</td> <td>-2544.2158</td> <td>2336.4088</td>  <td>False</td>\n",
              "</tr>\n",
              "<tr>\n",
              "  <td>southeast</td> <td>southwest</td> <td>-2388.4741</td> <td>0.0477</td> <td>-4760.6915</td> <td>-16.2567</td>   <td>True</td> \n",
              "</tr>\n",
              "</table>"
            ],
            "text/latex": [
              "\\begin{center}\n",
              "\\begin{tabular}{ccccccc}\n",
              "\\toprule\n",
              "\\textbf{group1} & \\textbf{group2} & \\textbf{meandiff} & \\textbf{p-adj} & \\textbf{lower} & \\textbf{upper} & \\textbf{reject}  \\\\\n",
              "\\midrule\n",
              "   northeast    &    northwest    &     -955.5437     &     0.7457     &   -3397.7353   &    1486.648    &      False       \\\\\n",
              "   northeast    &    southeast    &     1329.0269     &     0.4746     &   -1045.1237   &   3703.1776    &      False       \\\\\n",
              "   northeast    &    southwest    &     -1059.4471    &     0.6793     &   -3499.7595   &   1380.8652    &      False       \\\\\n",
              "   northwest    &    southeast    &     2284.5706     &     0.0643     &     -89.58     &   4658.7212    &      False       \\\\\n",
              "   northwest    &    southwest    &     -103.9035     &     0.9995     &   -2544.2158   &   2336.4088    &      False       \\\\\n",
              "   southeast    &    southwest    &     -2388.4741    &     0.0477     &   -4760.6915   &    -16.2567    &       True       \\\\\n",
              "\\bottomrule\n",
              "\\end{tabular}\n",
              "%\\caption{Multiple Comparison of Means - Tukey HSD, FWER=0.05}\n",
              "\\end{center}"
            ],
            "text/plain": [
              "<class 'statsmodels.iolib.table.SimpleTable'>"
            ]
          },
          "execution_count": 54,
          "metadata": {},
          "output_type": "execute_result"
        }
      ],
      "source": [
        "## perform tukey's multiple comparison test and display the summary\n",
        "tukeys_results = pairwise_tukeyhsd(values,labels)\n",
        "tukeys_results.summary()"
      ]
    },
    {
      "cell_type": "markdown",
      "metadata": {
        "id": "JaoG7ru28eGM"
      },
      "source": [
        "** Interpretation **\n",
        "1 significant result between southeast and southwest regions in terms of charges. No real difference between the other regions."
      ]
    }
  ],
  "metadata": {
    "colab": {
      "provenance": [],
      "toc_visible": true
    },
    "kernelspec": {
      "display_name": "Python (dojo-env)",
      "language": "python",
      "name": "dojo-env"
    },
    "language_info": {
      "codemirror_mode": {
        "name": "ipython",
        "version": 3
      },
      "file_extension": ".py",
      "mimetype": "text/x-python",
      "name": "python",
      "nbconvert_exporter": "python",
      "pygments_lexer": "ipython3",
      "version": "3.10.10"
    }
  },
  "nbformat": 4,
  "nbformat_minor": 0
}